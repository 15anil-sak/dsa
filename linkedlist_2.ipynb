{
 "cells": [
  {
   "cell_type": "code",
   "execution_count": 1,
   "id": "998665cc-3682-492c-94b8-36e774ce08c4",
   "metadata": {},
   "outputs": [
    {
     "name": "stdout",
     "output_type": "stream",
     "text": [
      "5\n"
     ]
    }
   ],
   "source": [
    "print(3+2)"
   ]
  },
  {
   "cell_type": "code",
   "execution_count": 1,
   "id": "b0bdb971-bcaf-4604-83bd-3c7a15946434",
   "metadata": {},
   "outputs": [
    {
     "name": "stdout",
     "output_type": "stream",
     "text": [
      "2 -> 5 -> 10 -> \n",
      "4 -> 8 -> 12 -> \n",
      "2 -> 4 -> 5 -> 8 -> 10 -> 12 -> \n",
      "1 -> 2 -> 1 -> \n"
     ]
    },
    {
     "data": {
      "text/plain": [
       "True"
      ]
     },
     "execution_count": 1,
     "metadata": {},
     "output_type": "execute_result"
    }
   ],
   "source": [
    "class Node:\n",
    "    def __init__(self,data):\n",
    "        self.data=data\n",
    "        self.next=None\n",
    "class single:\n",
    "    def __init__(self):\n",
    "        self.head=None\n",
    "    def sortedarr(h1,h2):\n",
    "        dummy=Node(-1)\n",
    "        curr=dummy\n",
    "        while h1 and h2:\n",
    "            if h1.data <h2.data:\n",
    "                curr.next=h1\n",
    "                h1=h1.next\n",
    "            else:\n",
    "                curr.next=h2\n",
    "                h2=h2.next\n",
    "            curr=curr.next\n",
    "        if h1 is not None:\n",
    "            curr.next=h1\n",
    "        else:\n",
    "            curr.next=h2\n",
    "        return dummy.next\n",
    "    def traversal(self):\n",
    "        if self.head is None:\n",
    "            return \"Empty_list\"\n",
    "        else:\n",
    "            a=self.head\n",
    "            while a:\n",
    "                print(a.data,\"->\",end=' ')\n",
    "                a=a.next\n",
    "        print()\n",
    "    def palindrome(self,head):# check the list is palindrome # naive approach\n",
    "        curr_node=head\n",
    "        s=[]\n",
    "        while curr_node:\n",
    "            s.append(curr_node.data)\n",
    "            curr_node=curr_node.next\n",
    "        while head:\n",
    "            c=s.pop()\n",
    "            if head.data!=c:\n",
    "                return False\n",
    "            head=head.next\n",
    "        return True\n",
    "        \n",
    "        \n",
    "#first list\n",
    "n1=Node(2)\n",
    "s1=single()\n",
    "s1.head=n1\n",
    "n2=Node(5)\n",
    "n1.next=n2\n",
    "n3=Node(10)\n",
    "n2.next=n3\n",
    "s1.traversal()\n",
    "#second list\n",
    "h1=Node(4)\n",
    "s2=single()\n",
    "s2.head=h1\n",
    "h2=Node(8)\n",
    "h1.next=h2\n",
    "h3=Node(12)\n",
    "h2.next=h3\n",
    "s2.traversal()\n",
    "res=single.sortedarr(n1,h1)\n",
    "res_list=single()\n",
    "res_list.head=res\n",
    "res_list.traversal()\n",
    "\n",
    "#check palindrome\n",
    "x1=Node(1)\n",
    "s1=single()\n",
    "s1.head=x1\n",
    "x2=Node(2)\n",
    "x1.next=x2\n",
    "x3=Node(1)\n",
    "x2.next=x3\n",
    "s1.traversal()\n",
    "s1.palindrome(x1)\n",
    "\n",
    "\n",
    "        "
   ]
  },
  {
   "cell_type": "code",
   "execution_count": 8,
   "id": "8caf89ac-d07b-4529-b143-ec34a45e2342",
   "metadata": {},
   "outputs": [
    {
     "name": "stdout",
     "output_type": "stream",
     "text": [
      "True\n"
     ]
    }
   ],
   "source": [
    "def palindrome(l1):\n",
    "    og=l1[:]\n",
    "    l2=[]\n",
    "    while l1:\n",
    "        x=l1.pop( )\n",
    "        l2.append(x)\n",
    "    return og==l2\n",
    "l1=[1,2,1,2,1]\n",
    "print(palindrome(l1))"
   ]
  },
  {
   "cell_type": "code",
   "execution_count": null,
   "id": "5a35488b-8809-45bf-bcfa-69a9ff28035a",
   "metadata": {},
   "outputs": [],
   "source": []
  }
 ],
 "metadata": {
  "kernelspec": {
   "display_name": "Python 3 (ipykernel)",
   "language": "python",
   "name": "python3"
  },
  "language_info": {
   "codemirror_mode": {
    "name": "ipython",
    "version": 3
   },
   "file_extension": ".py",
   "mimetype": "text/x-python",
   "name": "python",
   "nbconvert_exporter": "python",
   "pygments_lexer": "ipython3",
   "version": "3.12.7"
  }
 },
 "nbformat": 4,
 "nbformat_minor": 5
}
