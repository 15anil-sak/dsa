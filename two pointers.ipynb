{
 "cells": [
  {
   "cell_type": "code",
   "execution_count": 4,
   "id": "7b57bbdb-f179-4d7b-a9e8-bd09ae253c3f",
   "metadata": {},
   "outputs": [
    {
     "name": "stdout",
     "output_type": "stream",
     "text": [
      "False\n"
     ]
    }
   ],
   "source": [
    "#target value\n",
    "#Time complexity-0(n^2)\n",
    "def target(s,t):\n",
    "    for i in range(len(s)):\n",
    "        for j in range(i+1,len(s)):\n",
    "            if s[i]+s[j]==t:\n",
    "                return True\n",
    "    return False\n",
    "s=[0,1,2,3,5]\n",
    "t1=9\n",
    "print(target(s,t1))"
   ]
  },
  {
   "cell_type": "code",
   "execution_count": 9,
   "id": "4e8239ea-5ca2-4b55-94c4-aa358a7ecf9b",
   "metadata": {},
   "outputs": [
    {
     "name": "stdout",
     "output_type": "stream",
     "text": [
      "False\n"
     ]
    }
   ],
   "source": [
    "def target_number(s1,t1):\n",
    "    l1=0\n",
    "    for  i in s1:\n",
    "        x=t1-s[l1]\n",
    "        if x in s1:\n",
    "            return True\n",
    "        else:\n",
    "            l1+=1\n",
    "            return False\n",
    "        \n",
    "s1=[0,3,4,6,2,2,5]\n",
    "t1=23\n",
    "print(target_number(s1,t1))\n",
    "        "
   ]
  },
  {
   "cell_type": "code",
   "execution_count": 5,
   "id": "80cce40b-b72f-48db-b2e0-2008c434cb6e",
   "metadata": {},
   "outputs": [
    {
     "name": "stdout",
     "output_type": "stream",
     "text": [
      "[-4, 0, 1, 2, 3, 5, 7]\n"
     ]
    }
   ],
   "source": [
    "def target_number(s1):\n",
    "    n=len(s1)\n",
    "    flag=True\n",
    "    while flag:\n",
    "        flag=False\n",
    "        for i in range(1,n):\n",
    "            if s1[i-1]>s1[i]:\n",
    "                s1[i-1],s1[i]=s1[i],s1[i-1]\n",
    "                flag=True\n",
    "    return s1\n",
    "s1=[0,2,3,5,1,-4,7]\n",
    "print(target_number(s1))\n",
    "    "
   ]
  },
  {
   "cell_type": "code",
   "execution_count": null,
   "id": "ef09209a-9c38-43ff-b1e9-0881bb1d27bd",
   "metadata": {},
   "outputs": [],
   "source": []
  }
 ],
 "metadata": {
  "kernelspec": {
   "display_name": "Python 3 (ipykernel)",
   "language": "python",
   "name": "python3"
  },
  "language_info": {
   "codemirror_mode": {
    "name": "ipython",
    "version": 3
   },
   "file_extension": ".py",
   "mimetype": "text/x-python",
   "name": "python",
   "nbconvert_exporter": "python",
   "pygments_lexer": "ipython3",
   "version": "3.12.7"
  }
 },
 "nbformat": 4,
 "nbformat_minor": 5
}
