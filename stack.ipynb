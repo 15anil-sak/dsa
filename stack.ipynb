{
 "cells": [
  {
   "cell_type": "code",
   "execution_count": 3,
   "id": "efcdce00-12ba-4c0a-b801-1750c608a72a",
   "metadata": {},
   "outputs": [
    {
     "name": "stdout",
     "output_type": "stream",
     "text": [
      "23+(5*3)\n",
      "- + A * B C / D E\n"
     ]
    }
   ],
   "source": [
    "def prefix(postfix):\n",
    "    stack=[]\n",
    "    oper=set(['+','-','*','/','^','%'])\n",
    "    for i in postfix.split():\n",
    "        if i not in oper:\n",
    "            stack.append(i)\n",
    "        else:\n",
    "            char1=stack.pop()\n",
    "            char2=stack.pop()\n",
    "            new_exp=i+' '+char2+\" \"+char1\n",
    "            stack.append(new_exp)\n",
    "    return stack[-1]\n",
    "post=\"23+(5*3)\"\n",
    "x=\"A B C * + D E / -\"\n",
    "print(prefix(post))\n",
    "print(prefix(x))"
   ]
  },
  {
   "cell_type": "code",
   "execution_count": 6,
   "id": "307121f3-cc93-4447-997b-1945f6cefb9a",
   "metadata": {},
   "outputs": [
    {
     "name": "stdout",
     "output_type": "stream",
     "text": [
      "[1, 2, 4, 5]\n"
     ]
    }
   ],
   "source": [
    "def delete_middle(stack,n,curr=0):\n",
    "    if not stack:\n",
    "        return\n",
    "    if curr==n//2:\n",
    "        stack.pop()\n",
    "        return\n",
    "    temp=stack.pop()\n",
    "    delete_middle(stack,n,curr+1)\n",
    "    stack.append(temp)\n",
    "stack=[1,2,3,4,5]\n",
    "x=delete_middle(stack,len(stack))\n",
    "print(stack)"
   ]
  },
  {
   "cell_type": "code",
   "execution_count": 17,
   "id": "7f810df7-1afb-4960-9373-b07100f38dc1",
   "metadata": {},
   "outputs": [
    {
     "name": "stdout",
     "output_type": "stream",
     "text": [
      "olleH dlrow\n"
     ]
    }
   ],
   "source": [
    "# Leetcode 557\n",
    "def reverse(s):\n",
    "    stack=[]\n",
    "    result=''\n",
    "    for i in range(len(s)):\n",
    "        if s[i]!=' ':\n",
    "            stack.append(s[i])\n",
    "        else:\n",
    "            while stack:\n",
    "                result+=stack.pop()\n",
    "            result+= ' '\n",
    "    while stack:\n",
    "        result+=stack.pop()\n",
    "    return result\n",
    "s=\"Hello world\"\n",
    "print(reverse(s))       "
   ]
  },
  {
   "cell_type": "code",
   "execution_count": 26,
   "id": "65238c45-5e9b-4c05-9f41-760c6a50ac6e",
   "metadata": {},
   "outputs": [
    {
     "name": "stdout",
     "output_type": "stream",
     "text": [
      "olleH dlrow\n"
     ]
    }
   ],
   "source": [
    "def reverse(s):\n",
    "    return \" \".join([(x[::-1]) for x in s.split()])\n",
    "s=\"Hello world\"\n",
    "print(reverse(s))"
   ]
  },
  {
   "cell_type": "code",
   "execution_count": 7,
   "id": "5e8b00f8-6f47-4f60-9c6c-35773f6f567c",
   "metadata": {},
   "outputs": [
    {
     "name": "stdout",
     "output_type": "stream",
     "text": [
      "[1, 1, 1, 2, 1, 4, 6]\n"
     ]
    }
   ],
   "source": [
    "#Medium ->(The Stock Span Probelm):\n",
    "#Brute-force alogrithm\n",
    "# Time Complexity:O(n^2)\n",
    "def  stock_span(s):\n",
    "    n=len(s)\n",
    "    span=[1]*n\n",
    "    for i in range(1,n):\n",
    "        j=i-1\n",
    "        while j>=0 and s[i]>=s[j]:\n",
    "            span[i]+=1\n",
    "            j-=1\n",
    "    return span\n",
    "s=[100,80,60,70,60,75,85]\n",
    "print(stock_span(s))"
   ]
  },
  {
   "cell_type": "code",
   "execution_count": 3,
   "id": "f69dae79-36aa-45db-916e-3e2adfa4ce51",
   "metadata": {},
   "outputs": [
    {
     "name": "stdout",
     "output_type": "stream",
     "text": [
      "[1, 1, 1, 2, 3, 5]\n"
     ]
    }
   ],
   "source": [
    "#medium-> (The Stock span Probelm):\n",
    "#Monotic Stack (Fixed-size array):\n",
    "# Time Complexty\n",
    "def Stock_span(arr):\n",
    "    n=len(arr)\n",
    "    stack=[]\n",
    "    span=[0]*n\n",
    "    for i in range(n):\n",
    "        while stack and arr[stack[-1]]<=arr[i]:\n",
    "            stack.pop()\n",
    "        if not stack:\n",
    "            span[i]=(i+1)\n",
    "        else:\n",
    "            span[i]=(i-stack[-1])\n",
    "        stack.append(i)\n",
    "    return span\n",
    "arr=[100,80,60,65,70,85]\n",
    "print(Stock_span(arr))"
   ]
  },
  {
   "cell_type": "code",
   "execution_count": 11,
   "id": "6cd88b3f-34b1-42d1-894b-c40389fc4b26",
   "metadata": {},
   "outputs": [
    {
     "name": "stdout",
     "output_type": "stream",
     "text": [
      "[3, 4, 4, -1]\n"
     ]
    }
   ],
   "source": [
    "#Brute_force alogrithm\n",
    "# TImeComplexity:O(n^2)\n",
    "# NEXT GREATER NUMBER:\n",
    "def greater_number(arr):\n",
    "    n=len(arr)\n",
    "    s=[]\n",
    "    for i in range(n):\n",
    "        next_greater=-1\n",
    "        for j in range(i+1,n):\n",
    "            if arr[j]>arr[i]:\n",
    "                next_greater=arr[j]\n",
    "                break\n",
    "        s.append(next_greater)\n",
    "    return s\n",
    "arr=[1,3,2,4]\n",
    "print(greater_number(arr))\n",
    "\n",
    "\n",
    "            "
   ]
  },
  {
   "cell_type": "code",
   "execution_count": 13,
   "id": "90faa773-8bf9-4e17-b660-5e690d3a1f55",
   "metadata": {},
   "outputs": [
    {
     "name": "stdout",
     "output_type": "stream",
     "text": [
      "[3, 4, 4, -1]\n"
     ]
    }
   ],
   "source": [
    "#OPtimized Method\n",
    "#NEXT GREATER ELEMENT(NEG):\n",
    "#Time Complexity:O(n)\n",
    "def greater_element(arr):\n",
    "    n=len(arr)\n",
    "    stack=[]\n",
    "    result=[-1]*n\n",
    "    for i in range(n-1,-1,-1):\n",
    "        while stack and stack[-1]<=arr[i]:\n",
    "            stack.pop()\n",
    "        if stack:\n",
    "            result[i]=stack[-1]\n",
    "        stack.append(arr[i])\n",
    "    return result\n",
    "arr=[1,3,2,4]\n",
    "print(greater_element(arr))"
   ]
  },
  {
   "cell_type": "code",
   "execution_count": 9,
   "id": "1e00b3d7-d496-4d2c-881c-bbf61fcb30b1",
   "metadata": {},
   "outputs": [
    {
     "name": "stdout",
     "output_type": "stream",
     "text": [
      "[-1, 1, -1, 0, 3, 4]\n"
     ]
    }
   ],
   "source": [
    "#Nearest smaller number on left side\n",
    "# Time complexity:O(n^2)\n",
    "def nearst(arr):\n",
    "    n=len(arr)\n",
    "    stack=[-1]*n\n",
    "    for i in range(n):\n",
    "        for j in range(i-1,-1,-1):\n",
    "            if arr[j]<arr[i]:\n",
    "                stack[i]=arr[j]\n",
    "                break\n",
    "    return stack\n",
    "arr=[1,5,0,3,4,5]\n",
    "print(nearst(arr))\n",
    "    "
   ]
  },
  {
   "cell_type": "code",
   "execution_count": 18,
   "id": "1f9099ac-7a76-4f70-8f45-fef77a21ec30",
   "metadata": {},
   "outputs": [
    {
     "name": "stdout",
     "output_type": "stream",
     "text": [
      "[-1, 1, -1, 0, 3, 4]\n"
     ]
    }
   ],
   "source": [
    "#Nearst Smaller number \n",
    "#Optimized method->(Monotic stack())\n",
    "#Time Complexity:O(n)\n",
    "def nearst(arr):\n",
    "    n=len(arr)\n",
    "    stack=[]\n",
    "    spin=[-1]*n\n",
    "    for i in range(n):\n",
    "        while stack and stack[-1]>arr[i]:\n",
    "            stack.pop()\n",
    "        if stack:\n",
    "            spin[i]=stack[-1]\n",
    "        stack.append(arr[i])\n",
    "    return spin\n",
    "arr=[1,5,0,3,4,5]\n",
    "print(nearst(arr))"
   ]
  },
  {
   "cell_type": "code",
   "execution_count": null,
   "id": "c2902c23-7224-4306-941b-8c8246842502",
   "metadata": {},
   "outputs": [],
   "source": []
  }
 ],
 "metadata": {
  "kernelspec": {
   "display_name": "Python 3 (ipykernel)",
   "language": "python",
   "name": "python3"
  },
  "language_info": {
   "codemirror_mode": {
    "name": "ipython",
    "version": 3
   },
   "file_extension": ".py",
   "mimetype": "text/x-python",
   "name": "python",
   "nbconvert_exporter": "python",
   "pygments_lexer": "ipython3",
   "version": "3.12.7"
  }
 },
 "nbformat": 4,
 "nbformat_minor": 5
}
